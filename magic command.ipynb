{
 "cells": [
  {
   "cell_type": "markdown",
   "id": "d8210c23-379d-42c0-846c-d8403b27891f",
   "metadata": {},
   "source": [
    "# Magic command\n",
    "Magic Commands are special commands in IPython that enhance Python programmming experience.\n",
    "We can classify the magic commands to two categories:\n",
    "- Line Magics\n",
    "- Cell Magics\n",
    "\n",
    "If you want to know, please click [link](https://ipython.readthedocs.io/en/stable/interactive/magics.html) for more info!"
   ]
  },
  {
   "cell_type": "markdown",
   "id": "6df1bf4c-5011-4a55-86c4-8acfe1abeeb6",
   "metadata": {},
   "source": [
    "## Line Magics"
   ]
  },
  {
   "cell_type": "markdown",
   "id": "80da0345-1cb6-4c93-90f4-597624227682",
   "metadata": {},
   "source": [
    "### %lsmagic\n",
    "`lsmagic`: This command can show all magic commands in current IPython kernel"
   ]
  },
  {
   "cell_type": "code",
   "execution_count": null,
   "id": "c16bcc9a-fb01-4339-ab8e-25151f736909",
   "metadata": {
    "scrolled": true
   },
   "outputs": [],
   "source": [
    "%lsmagic"
   ]
  },
  {
   "cell_type": "markdown",
   "id": "45944e27-45d4-4008-8dad-93652de2db61",
   "metadata": {},
   "source": [
    "### %alias \n",
    "`alias` is a command that alias the customized command"
   ]
  },
  {
   "cell_type": "code",
   "execution_count": null,
   "id": "71067eb0-4b70-4539-9996-25c5552826dc",
   "metadata": {},
   "outputs": [],
   "source": [
    "%alias\n",
    "# In the windows environment, there are 8 default commands"
   ]
  },
  {
   "cell_type": "code",
   "execution_count": null,
   "id": "e5fc6a96-ccf1-47df-8068-a68dfb37e6f8",
   "metadata": {},
   "outputs": [],
   "source": [
    "# set the function of printing \"hello\" to <print_hello>\n",
    "%alias print_hello echo \"helo\""
   ]
  },
  {
   "cell_type": "code",
   "execution_count": null,
   "id": "0fa2a0a0-4710-4ae1-8537-2fa6c7c4f1b6",
   "metadata": {},
   "outputs": [],
   "source": [
    "%print_hello"
   ]
  },
  {
   "cell_type": "code",
   "execution_count": null,
   "id": "35b81dc5-40d3-41ad-990e-884ff352712e",
   "metadata": {},
   "outputs": [],
   "source": [
    "%alias bracket echo \"output: <%s>, complete...\""
   ]
  },
  {
   "cell_type": "code",
   "execution_count": null,
   "id": "2cd1f331-5bc9-4a86-9948-c48929617171",
   "metadata": {},
   "outputs": [],
   "source": [
    "%bracket hek"
   ]
  },
  {
   "cell_type": "markdown",
   "id": "3a446ee9-808b-4d9d-9825-97425b2bf298",
   "metadata": {},
   "source": [
    "### %conda\n",
    "\n",
    "`%conda` is a command that allows we to install packages on cell. "
   ]
  },
  {
   "cell_type": "code",
   "execution_count": null,
   "id": "882d9b11",
   "metadata": {},
   "outputs": [],
   "source": [
    "%conda install numpy"
   ]
  },
  {
   "cell_type": "markdown",
   "id": "1ac99662",
   "metadata": {},
   "source": [
    "### %dhist\n",
    "\n",
    "`%dhist` is used to output the history of accessed directories."
   ]
  },
  {
   "cell_type": "code",
   "execution_count": null,
   "id": "42550b78",
   "metadata": {},
   "outputs": [],
   "source": [
    "%dhist"
   ]
  },
  {
   "cell_type": "markdown",
   "id": "3f010379",
   "metadata": {},
   "source": [
    "### %history\n",
    "`%history` is a command that output the history of output command."
   ]
  },
  {
   "cell_type": "code",
   "execution_count": null,
   "id": "dec6dd13",
   "metadata": {},
   "outputs": [],
   "source": [
    "%history"
   ]
  },
  {
   "cell_type": "markdown",
   "id": "4209227b",
   "metadata": {},
   "source": [
    "### %magic\n",
    "`%magic` is a command that output all commands manual."
   ]
  },
  {
   "cell_type": "code",
   "execution_count": null,
   "id": "422842d8",
   "metadata": {},
   "outputs": [],
   "source": [
    "%magic"
   ]
  },
  {
   "cell_type": "markdown",
   "id": "8022c9ac-8683-4d70-b63a-d0eaee2e69ad",
   "metadata": {},
   "source": [
    "### %pwd\n",
    "`%pwd` is used to print the directory path where the current file is located."
   ]
  },
  {
   "cell_type": "code",
   "execution_count": null,
   "id": "7f44ee4c-9f43-436f-91c9-6056b1713d6d",
   "metadata": {},
   "outputs": [],
   "source": [
    "%pwd"
   ]
  },
  {
   "cell_type": "markdown",
   "id": "9a8bb34e-0514-40f9-ba04-9ca28ea97bab",
   "metadata": {},
   "source": [
    "### %pycat\n",
    "\n",
    "simliar to `cat`, `%pycat` is used to preview the file content."
   ]
  },
  {
   "cell_type": "code",
   "execution_count": null,
   "id": "f22b57bb-a8e5-4584-baf7-5f7470259582",
   "metadata": {},
   "outputs": [],
   "source": [
    "%pycat ./README.md"
   ]
  },
  {
   "cell_type": "markdown",
   "id": "6f9c63f3-a8b0-4908-a039-fdd436db46da",
   "metadata": {},
   "source": [
    "### %run\n",
    "\n",
    "`%run` is a command that allows user to run scripts"
   ]
  },
  {
   "cell_type": "code",
   "execution_count": null,
   "id": "cf1330ea-aae6-4eb0-b811-168429f10c8a",
   "metadata": {},
   "outputs": [],
   "source": [
    "%run ./scripts/hello.py"
   ]
  },
  {
   "cell_type": "markdown",
   "id": "eae9aeea-a597-418d-8df2-501c9c5e71f1",
   "metadata": {},
   "source": [
    "### %time\n",
    "`%time` is used to measure the exectution time of a single statment or expression."
   ]
  },
  {
   "cell_type": "code",
   "execution_count": null,
   "id": "99aa2dde-92b6-45b1-a84d-54096b204145",
   "metadata": {},
   "outputs": [],
   "source": [
    "%time %run ./scripts/hello.py"
   ]
  },
  {
   "cell_type": "markdown",
   "id": "2f3662f9-b8fd-456a-9f01-6f1e16e9aea2",
   "metadata": {},
   "source": [
    "### %cd\n",
    "change the current working dirctory."
   ]
  },
  {
   "cell_type": "code",
   "execution_count": 11,
   "id": "7fba9707-6c5a-4f66-a72a-e4370a76a00d",
   "metadata": {},
   "outputs": [
    {
     "name": "stdout",
     "output_type": "stream",
     "text": [
      "C:\\Users\\ranpi\n"
     ]
    }
   ],
   "source": [
    "%cd .."
   ]
  },
  {
   "cell_type": "code",
   "execution_count": 12,
   "id": "24adff82-c133-4e5c-b593-33ad22a10ce3",
   "metadata": {},
   "outputs": [
    {
     "data": {
      "text/plain": [
       "'C:\\\\Users\\\\ranpi'"
      ]
     },
     "execution_count": 12,
     "metadata": {},
     "output_type": "execute_result"
    }
   ],
   "source": [
    "%pwd"
   ]
  },
  {
   "cell_type": "code",
   "execution_count": 14,
   "id": "03160dc0-9974-49df-825e-81c2c7dbe3c0",
   "metadata": {},
   "outputs": [
    {
     "name": "stdout",
     "output_type": "stream",
     "text": [
      "C:\\Users\\ranpi\\Documents\\Jupyter Notebook\n"
     ]
    }
   ],
   "source": [
    "%cd \"C:\\Users\\ranpi\\Documents\\Jupyter Notebook\""
   ]
  },
  {
   "cell_type": "code",
   "execution_count": 15,
   "id": "5aa398f7-4bd9-4a37-9b55-c729a09e32e5",
   "metadata": {},
   "outputs": [
    {
     "data": {
      "text/plain": [
       "'C:\\\\Users\\\\ranpi\\\\Documents\\\\Jupyter Notebook'"
      ]
     },
     "execution_count": 15,
     "metadata": {},
     "output_type": "execute_result"
    }
   ],
   "source": [
    "%pwd"
   ]
  },
  {
   "cell_type": "markdown",
   "id": "ae330e85-7bd7-4fe8-8f08-7f0cbb06635b",
   "metadata": {},
   "source": [
    "### %env\n",
    "Get, set, or list environment variables."
   ]
  },
  {
   "cell_type": "code",
   "execution_count": null,
   "id": "0695c3ee-c349-46ec-a7ea-514433cb8ec6",
   "metadata": {},
   "outputs": [],
   "source": [
    "# list all wenvironments \n",
    "%env"
   ]
  },
  {
   "cell_type": "code",
   "execution_count": null,
   "id": "d8e0afde-7204-46f9-b4d0-c1e04cd46ec3",
   "metadata": {},
   "outputs": [],
   "source": [
    "# get value for var\n",
    "# env var"
   ]
  },
  {
   "cell_type": "code",
   "execution_count": null,
   "id": "a0eae904-263c-4946-a211-1e15510ef0cb",
   "metadata": {},
   "outputs": [],
   "source": [
    "# set value for var\n",
    "# env var val\n",
    "# OR\n",
    "# env var=val"
   ]
  },
  {
   "cell_type": "code",
   "execution_count": null,
   "id": "23cd195f-6812-421a-ae64-f2bf06a6ed04",
   "metadata": {},
   "outputs": [],
   "source": [
    "# set value for var, using python expansion if possible\n",
    "# env var=$val"
   ]
  },
  {
   "cell_type": "markdown",
   "id": "65825100-1e45-46dd-b39a-6c111685dab8",
   "metadata": {},
   "source": [
    "## Cell Magics"
   ]
  },
  {
   "cell_type": "markdown",
   "id": "d66a746f-2761-4d83-ba39-710b70016b98",
   "metadata": {},
   "source": [
    "### %%latex\n",
    "`%%latex` is used to write latex formula."
   ]
  },
  {
   "cell_type": "code",
   "execution_count": null,
   "id": "d3a33d5c-b6b1-46ff-903b-77d4bd731bf1",
   "metadata": {},
   "outputs": [],
   "source": [
    "%%latex\n",
    "\\begin{equation}\n",
    "  \\int_0^\\infty \\frac{x^3}{e^x-1}\\,dx = \\frac{\\pi^4}{15}  \n",
    "  \\label{eq:sample}\n",
    "\\end{equation}"
   ]
  },
  {
   "cell_type": "markdown",
   "id": "61859fd4-7c0e-44d3-90cd-06ebde867223",
   "metadata": {},
   "source": [
    "### %%script\n",
    "`%%script` allows users to write scripts in perl, js and other languages."
   ]
  },
  {
   "cell_type": "code",
   "execution_count": 6,
   "id": "70e8b84c-ca45-41cc-adc6-817563becfff",
   "metadata": {},
   "outputs": [
    {
     "name": "stdout",
     "output_type": "stream",
     "text": [
      "hello"
     ]
    }
   ],
   "source": [
    "%%script perl\n",
    "print \"hello\""
   ]
  }
 ],
 "metadata": {
  "kernelspec": {
   "display_name": "coding_practice",
   "language": "python",
   "name": "coding_practice"
  },
  "language_info": {
   "codemirror_mode": {
    "name": "ipython",
    "version": 3
   },
   "file_extension": ".py",
   "mimetype": "text/x-python",
   "name": "python",
   "nbconvert_exporter": "python",
   "pygments_lexer": "ipython3",
   "version": "3.12.8"
  }
 },
 "nbformat": 4,
 "nbformat_minor": 5
}
